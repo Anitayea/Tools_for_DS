{
 "cells": [
  {
   "cell_type": "markdown",
   "metadata": {},
   "source": [
    "**Important Note**: <u>Please be sure to use instructions explained in the class ONLY (Do NOT use any non-explained library)</u>"
   ]
  },
  {
   "cell_type": "markdown",
   "metadata": {},
   "source": [
    "### Question 1\n",
    "\n",
    "There are 12 files in the folder `sales-data`: (1.txt, 2.txt, 3.txt, .. 12.txt). Each one of these files contains sales amount of three different items (item1, item2 items) in 30 days (each line represents one day). "
   ]
  },
  {
   "cell_type": "markdown",
   "metadata": {},
   "source": [
    "**a.**  Write python code to create a new file `totals.txt` that contains the total sale of each item in each month. The content of the file should look like this:\n",
    "\n",
    "```\n",
    "item1,item2,item3\n",
    "164714,171778,153696\n",
    "162723,181867,166487\n",
    "172914,149516,155791\n",
    "179961,153297,173636\n",
    "159424,174871,149985\n",
    "181047,157718,155231\n",
    "153844,155137,181145\n",
    "175812,175479,169075\n",
    "177620,167257,167605\n",
    "180829,178063,170401\n",
    "172265,176444,152275\n",
    "151173,159185,139130\n",
    "```"
   ]
  },
  {
   "cell_type": "code",
   "execution_count": 1,
   "metadata": {},
   "outputs": [],
   "source": [
    "## Your code here\n",
    "def total(f):\n",
    "    next(f)\n",
    "    i1,i2,i3=0,0,0\n",
    "    for i in f:\n",
    "        i1+=int(i.split(',')[0])\n",
    "        i2+=int(i.split(',')[1])\n",
    "        i3+=int(i.split(',')[2])\n",
    "    return i1,i2,i3\n",
    "\n",
    "f1=open('totals.txt','w')\n",
    "f1.write('item1,item2,item3 \\n')\n",
    "\n",
    "for i in range(1,13):\n",
    "    f=open('./sales-data/'+str(i)+'.txt')\n",
    "    f1.write(','.join(str(i) for i in total(f)))\n",
    "    f1.write('\\n')\n",
    "\n",
    "f1.close()\n",
    "f.close()"
   ]
  },
  {
   "cell_type": "code",
   "execution_count": 2,
   "metadata": {},
   "outputs": [
    {
     "name": "stdout",
     "output_type": "stream",
     "text": [
      "item1,item2,item3 \r\n",
      "164714,171778,153696\r\n",
      "162723,181867,166487\r\n",
      "172914,149516,155791\r\n",
      "179961,153297,173636\r\n",
      "159424,174871,149985\r\n",
      "181047,157718,155231\r\n",
      "153844,155137,181145\r\n",
      "175812,175479,169075\r\n",
      "177620,167257,167605\r\n",
      "180829,178063,170401\r\n",
      "172265,176444,152275\r\n",
      "151173,159185,139130\r\n"
     ]
    }
   ],
   "source": [
    "cat totals.txt"
   ]
  },
  {
   "cell_type": "markdown",
   "metadata": {},
   "source": [
    "**b.** use the created file `totals.txt` to print a list of items names sorted by their total sales (form largest to smallest). The output should look like this:\n",
    "\n",
    "```\n",
    "['item2', 'item1', 'item0']\n",
    "```"
   ]
  },
  {
   "cell_type": "code",
   "execution_count": 3,
   "metadata": {},
   "outputs": [
    {
     "data": {
      "text/plain": [
       "['item0', 'item1', 'item2']"
      ]
     },
     "execution_count": 3,
     "metadata": {},
     "output_type": "execute_result"
    }
   ],
   "source": [
    "i1,i2,i3=0,0,0\n",
    "f=open('totals.txt')\n",
    "next(f)\n",
    "#dict = {'item0':0,'item1':0,'item2':0}\n",
    "for i in f:\n",
    "    i1+=int(i.split(',')[0])\n",
    "    i2+=int(i.split(',')[1])\n",
    "    i3+=int(i.split(',')[2])\n",
    "s=sorted([i1,i2,i3],reverse=True)\n",
    "d = {'item0':i1,'item1':i2,'item2':i3}\n",
    "d = dict(sorted(d.items(), key=lambda i:i[1],reverse = True))\n",
    "list(d.keys())"
   ]
  },
  {
   "cell_type": "markdown",
   "metadata": {},
   "source": [
    "### Question 2.\n",
    " \n",
    "**a.** Define a python class `Book`, so that each book should have:\n",
    "- The following attributes:\n",
    "    - `title`\n",
    "    - `authors_lastnames` (list of authors_lastnames)\n",
    "    - `publisher_name`\n",
    "    - `publishing_year`\n",
    "- One method called `get_citation()` returns a string that contains the book citation in the following format : \n",
    "\n",
    "    ```authors_lastnames (publishing_year). title, publisher.```\n",
    "    \n",
    "For example:\n",
    "    `Meysman, Cielen (2016). Introducing Data Science, manning`\n",
    "\n",
    "**Notes:** \n",
    "- If there is more than one author be sure to add `,` between their lastnames.\n"
   ]
  },
  {
   "cell_type": "code",
   "execution_count": 6,
   "metadata": {},
   "outputs": [],
   "source": [
    "## Your code here\n",
    "class book:\n",
    "    #constructor\n",
    "    def __init__(self, title='', authors_lastnames=[],\n",
    "                publisher_name='',publishing_year=0):\n",
    "        self.title = title\n",
    "        self.authors_lastnames = authors_lastnames\n",
    "        self.publisher_name = publisher_name\n",
    "        self.publishing_year = publishing_year\n",
    "    #def __repr__(self):\n",
    "     #   return repr((self.title, self.authors_lastnames, self.publisher_name, self.publishing_year))\n",
    "    def get_citation(self):\n",
    "        return ', '.join(i for i in self.authors_lastnames)+\" (\"+ self.publishing_year+\"). \" +self.title+\", \"+self.publisher_name+\".\"\n",
    "    "
   ]
  },
  {
   "cell_type": "markdown",
   "metadata": {},
   "source": [
    "**b.** Use the created class to create a list of books call it `list_of_books`  using the data in file `booksdata.txt`"
   ]
  },
  {
   "cell_type": "code",
   "execution_count": 7,
   "metadata": {},
   "outputs": [
    {
     "name": "stdout",
     "output_type": "stream",
     "text": [
      "Wickham, Grolemund (2016). R for Data Science, O'Reilly Media.\n",
      "Kelleher, Tierney (2018). Data Science, MIT Press.\n",
      "VanderPlas (2016). Python Data Science Handbook, O'Reilly Media.\n",
      "Chojecki (2021). Data Science Job: How to become a Data Scientist, Przemek.\n",
      "Provost, Fawcett (2013). Data Science for Business: What You Need to Know about Data Mining and Data-Analytic Thinking, O'Reilly Media.\n",
      "Grus (2015). Data Science from Scratch: First Principles with Python, O'Reilly Media.\n",
      "Foreman (2013). Data Smart: Using Data Science to Transform Information Into Insight, Wiley.\n",
      "Irizarry (2019). Introduction to Data Science: Data Analysis and Prediction Algorithms with R, CRC Press.\n",
      "Robinson, Nolis (2020). Build a Career in Data Science, Manning.\n",
      "Baumer, Kaplan, Horton (2017). Modern Data Science with R, Taylor & Francis CRC Press.\n",
      "Pierson (2015). Data Science For Dummies, Wiley.\n",
      "Muenchen, Hoyt (2019). Introduction to Biomedical Data Science, Lulu.\n",
      "Carter (2020). Data Science for Mathematicians, CRC Press.\n",
      "Meysman, Cielen (2016). Introducing Data Science, Manning.\n",
      "Godsey (2017). Think Like a Data Scientist: Tackle the Data Science Process Step-by-step, Manning.\n",
      "Brunton, Kutz (2019). Data-Driven Science and Engineering, Cambridge University Pres.\n"
     ]
    }
   ],
   "source": [
    "## Your code here\n",
    "list_of_books=[]\n",
    "f=open('booksdata.txt')\n",
    "for i in f:\n",
    "    #x=( i.split(',')[0].split('|'))\n",
    "    #print([i for i in x])\n",
    "    #print( i.split(',')[0].split('|'))\n",
    "    list_of_books.append(book(i.split(',')[2], i.split(',')[0].split('|'), i.split(',')[-1][:-1], i.split(',')[1]))\n",
    "f.close()\n",
    "\n",
    "for i in list_of_books:\n",
    "    print(i.get_citation())\n"
   ]
  },
  {
   "cell_type": "markdown",
   "metadata": {},
   "source": [
    "**c.** Loop through the books in the `list_of_books` then find the latest 3 books (recently published) and show their citation.\n",
    "\n",
    "The output should be like this:\n",
    "\n",
    "```\n",
    "Chojecki (2021). Data Science Job: How To Become A Data Scientist, Przemek\n",
    "Robinson, Nolis (2020). Build A Career In Data Science, Manning\n",
    "Carter (2020). Data Science For Mathematicians, CRC Press\n",
    "\n",
    "```\n"
   ]
  },
  {
   "cell_type": "code",
   "execution_count": 8,
   "metadata": {},
   "outputs": [
    {
     "name": "stdout",
     "output_type": "stream",
     "text": [
      "Chojecki (2021). Data Science Job: How to become a Data Scientist, Przemek.\n",
      "Robinson, Nolis (2020). Build a Career in Data Science, Manning.\n",
      "Carter (2020). Data Science for Mathematicians, CRC Press.\n"
     ]
    }
   ],
   "source": [
    "## Your code here\n",
    "a = sorted(list_of_books, key = lambda book: book.publishing_year, \n",
    "           reverse=True)[:3]\n",
    "for i in a:\n",
    "    print(i.get_citation())"
   ]
  },
  {
   "cell_type": "markdown",
   "metadata": {},
   "source": [
    "**d.** Write <u>shell code</u> to read the data from `booksdata.txt` then extract book titles only and save result in `bookstitles.txt` sorted from a-z"
   ]
  },
  {
   "cell_type": "code",
   "execution_count": 9,
   "metadata": {
    "scrolled": false
   },
   "outputs": [
    {
     "data": {
      "text/plain": [
       "['Build a Career in Data Science',\n",
       " 'Data-Driven Science and Engineering',\n",
       " 'Data Science',\n",
       " 'Data Science for Business: What You Need to Know about Data Mining and Data-Analytic Thinking',\n",
       " 'Data Science For Dummies',\n",
       " 'Data Science for Mathematicians',\n",
       " 'Data Science from Scratch: First Principles with Python',\n",
       " 'Data Science Job: How to become a Data Scientist',\n",
       " 'Data Smart: Using Data Science to Transform Information Into Insight',\n",
       " 'Introducing Data Science',\n",
       " 'Introduction to Biomedical Data Science',\n",
       " 'Introduction to Data Science: Data Analysis and Prediction Algorithms with R',\n",
       " 'Modern Data Science with R',\n",
       " 'Python Data Science Handbook',\n",
       " 'R for Data Science',\n",
       " 'Think Like a Data Scientist: Tackle the Data Science Process Step-by-step']"
      ]
     },
     "execution_count": 9,
     "metadata": {},
     "output_type": "execute_result"
    }
   ],
   "source": [
    "%%!\n",
    "## Your code here\n",
    "cut -d',' -f3 booksdata.txt >temp.txt\n",
    "sort temp.txt > bookstitles.txt\n",
    "cat bookstitles.txt"
   ]
  },
  {
   "cell_type": "code",
   "execution_count": null,
   "metadata": {},
   "outputs": [],
   "source": []
  }
 ],
 "metadata": {
  "kernelspec": {
   "display_name": "Python 3 (ipykernel)",
   "language": "python",
   "name": "python3"
  },
  "language_info": {
   "codemirror_mode": {
    "name": "ipython",
    "version": 3
   },
   "file_extension": ".py",
   "mimetype": "text/x-python",
   "name": "python",
   "nbconvert_exporter": "python",
   "pygments_lexer": "ipython3",
   "version": "3.9.12"
  }
 },
 "nbformat": 4,
 "nbformat_minor": 2
}
