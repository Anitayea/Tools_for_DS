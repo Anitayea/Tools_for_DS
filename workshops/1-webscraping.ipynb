{
 "cells": [
  {
   "cell_type": "markdown",
   "id": "7efc09ce-67fa-4e8f-9d47-d87807105cfe",
   "metadata": {
    "id": "7efc09ce-67fa-4e8f-9d47-d87807105cfe"
   },
   "source": [
    "# Author:\n",
    "## Suye Shen ss13095\n",
    "## Anita Ye yy3557"
   ]
  },
  {
   "cell_type": "markdown",
   "id": "04955504",
   "metadata": {
    "id": "04955504"
   },
   "source": [
    "## Exercise 01"
   ]
  },
  {
   "cell_type": "markdown",
   "id": "0ad675c5",
   "metadata": {
    "id": "0ad675c5"
   },
   "source": [
    "Fetch the data from:\n",
    "https://makeup-api.herokuapp.com/api/v1/products.json?brand=maybelline\n",
    "\n",
    "Then:\n",
    "1. Find the name of the product of the maximum price"
   ]
  },
  {
   "cell_type": "code",
   "execution_count": null,
   "id": "e81a2878",
   "metadata": {
    "id": "e81a2878",
    "outputId": "a99b8310-34d8-486c-b804-80344b9f7d8a"
   },
   "outputs": [
    {
     "name": "stdout",
     "output_type": "stream",
     "text": [
      "Maybelline Dream Velvet Foundation\n"
     ]
    }
   ],
   "source": [
    "# 1. Your code here\n",
    "import requests\n",
    "import pandas as pd\n",
    "response= requests.get('https://makeup-api.herokuapp.com/api/v1/products.json?brand=maybelline')\n",
    "data = response.json()\n",
    "df = pd.DataFrame(data)\n",
    "df['price'] = pd.to_numeric(df['price'])\n",
    "max = df.loc[df['price'].idxmax(), 'name']\n",
    "print(max)"
   ]
  },
  {
   "cell_type": "markdown",
   "id": "46d00c25",
   "metadata": {
    "id": "46d00c25"
   },
   "source": [
    "2. Find the name of the product of the minimum price"
   ]
  },
  {
   "cell_type": "code",
   "execution_count": null,
   "id": "8b9bb5c4",
   "metadata": {
    "id": "8b9bb5c4",
    "outputId": "563eeaf1-7f34-444e-e474-2c670d116e8a"
   },
   "outputs": [
    {
     "name": "stdout",
     "output_type": "stream",
     "text": [
      "Maybelline Color Show Nail Lacquer Jewels \n"
     ]
    }
   ],
   "source": [
    "# 2. Your code here\n",
    "min= df.loc[df['price'].idxmin(), 'name']\n",
    "print(min)"
   ]
  },
  {
   "cell_type": "markdown",
   "id": "7c3a9ce4",
   "metadata": {
    "id": "7c3a9ce4"
   },
   "source": [
    "3. Find the average rating of all maybelline products (exclude any product that has no rating)"
   ]
  },
  {
   "cell_type": "code",
   "execution_count": null,
   "id": "94c3fd14",
   "metadata": {
    "id": "94c3fd14",
    "outputId": "69628fc9-22c0-46ff-cc6f-4b7593aed4da"
   },
   "outputs": [
    {
     "data": {
      "text/plain": [
       "4.082608695652174"
      ]
     },
     "execution_count": 7,
     "metadata": {},
     "output_type": "execute_result"
    }
   ],
   "source": [
    "# 3. Your code here\n",
    "rating = df['rating'].dropna()\n",
    "rating = pd.to_numeric(df['rating'])\n",
    "rating.mean()"
   ]
  },
  {
   "cell_type": "markdown",
   "id": "3420488a",
   "metadata": {
    "id": "3420488a"
   },
   "source": [
    "## Exercise 02"
   ]
  },
  {
   "cell_type": "markdown",
   "id": "5e3da2ac",
   "metadata": {
    "id": "5e3da2ac"
   },
   "source": [
    "Visit https://www.usatoday.com/news/  then for each of the following categories that you see on the top of the homepage: (`news`, `sports`, `entertaiment`, `life`), \n",
    "\n",
    "<br/><img src=\"https://raw.githubusercontent.com/ha2285/tmp/main/1.png\" width=\"60%\" high=\"60%\"><br/>\n",
    "\n",
    "\n",
    "- Try to visit each of these links and extract some info about the articles found on the rightside of the category's main page.\n",
    "\n",
    "<br/><img src=\"https://raw.githubusercontent.com/ha2285/tmp/main/2.png\" width=\"60%\" high=\"60%\"><br/>\n",
    "\n",
    "- For each article, you need to visit the article then extract:\n",
    "`title`, `category`, `author`, `publishing date` and the `URL of this article`.\n",
    "\n",
    "<br/><img src=\"https://raw.githubusercontent.com/ha2285/tmp/main/3.png\" width=\"60%\" high=\"60%\"><br/>\n",
    "\n",
    "- Save all these data into a text file called `articles.txt`). It should contain the data of each article in one line with comma's between in between, as follows:\n",
    "\n",
    "`title`, `category`, `author`, `publishing date`, `URL`\n",
    "\n"
   ]
  },
  {
   "cell_type": "code",
   "execution_count": null,
   "id": "45723481",
   "metadata": {
    "id": "45723481"
   },
   "outputs": [],
   "source": [
    "# Your code here\n",
    "import requests\n",
    "from bs4 import BeautifulSoup\n",
    "\n",
    "# retrieve HTML content of website\n",
    "url = 'https://www.usatoday.com'\n",
    "response = requests.get(url)\n",
    "html_content = response.text\n",
    "\n",
    "# create a BeautifulSoup object\n",
    "soup = BeautifulSoup(html_content, 'html.parser')\n",
    "\n",
    "# find all links on the page\n",
    "links = soup.find_all('a')\n",
    "\n",
    "# extract subpage links\n",
    "subpage_links = []\n",
    "for link in links:\n",
    "    href = link.get('href')\n",
    "    if href and href.startswith('/'):\n",
    "        subpage_links.append(href)"
   ]
  },
  {
   "cell_type": "code",
   "execution_count": null,
   "id": "83f342e9-d072-4454-9a67-1d1ad75ca8a6",
   "metadata": {
    "id": "83f342e9-d072-4454-9a67-1d1ad75ca8a6",
    "outputId": "596cf7f1-2860-4cf5-a4a2-8beb1ec3e9b1"
   },
   "outputs": [
    {
     "data": {
      "text/plain": [
       "['https://www.usatoday.com/life/',\n",
       " 'https://www.usatoday.com/entertainment/',\n",
       " 'https://www.usatoday.com/sports/',\n",
       " 'https://www.usatoday.com/news/nation/']"
      ]
     },
     "execution_count": 69,
     "metadata": {},
     "output_type": "execute_result"
    }
   ],
   "source": [
    "# print subpage links\n",
    "target_link = []\n",
    "target_site = ['news/nation/', 'sports/', 'entertainment/', 'life/']\n",
    "\n",
    "for subpage_link in subpage_links:\n",
    "    for target in target_site:\n",
    "        if target in subpage_link and len(subpage_link) == len(target)+1:\n",
    "            target_link.append(url + subpage_link)\n",
    "\n",
    "target_link = list(set(target_link))\n",
    "target_link"
   ]
  },
  {
   "cell_type": "code",
   "execution_count": null,
   "id": "d607b6a5-da19-4101-a12a-79f3dcfa07e0",
   "metadata": {
    "id": "d607b6a5-da19-4101-a12a-79f3dcfa07e0"
   },
   "outputs": [],
   "source": [
    "url = 'https://www.usatoday.com'\n",
    "f = open('articles.txt', 'w')\n",
    "\n",
    "for link in target_link:\n",
    "    articles_category = []\n",
    "    articles_author = []\n",
    "    articles_publishing_date = []\n",
    "    articles_urls = []\n",
    "    articles_title = []\n",
    "    response = requests.get(link)\n",
    "    soup = BeautifulSoup(response.text, 'html.parser')\n",
    "    category_tag = soup.find_all('a')\n",
    "    for article in category_tag:\n",
    "        if article['class'][0] == 'gnt_m_th_a':\n",
    "            articles_title.append(article.getText().strip())\n",
    "            articles_urls.append(url + article['href'])\n",
    "            articles_publishing_date.append(article.find('div').get('data-c-dt'))\n",
    "            articles_category.append(article.find('div').get('data-c-ms'))\n",
    "\n",
    "    for subweb in articles_urls:\n",
    "        response = requests.get(subweb)\n",
    "        soup = BeautifulSoup(response.text, 'html.parser')\n",
    "        if soup.find('meta', {'property': 'article:author'}):\n",
    "            articles_author.append(soup.find('meta', {'property': 'article:author'}).get('content'))\n",
    "        else:\n",
    "            articles_author.append(\"AP\")\n",
    "\n",
    "    for i in range(len(articles_title)):\n",
    "        f.write(articles_title[i] + ',' + articles_category[i] + ',' + articles_author[i] + ',' + articles_publishing_date[i] + ',' + articles_urls[i] + '\\n')\n",
    "f.close()"
   ]
  },
  {
   "cell_type": "code",
   "execution_count": null,
   "id": "da9f9461-c47e-44d9-8037-da25ccc85d38",
   "metadata": {
    "id": "da9f9461-c47e-44d9-8037-da25ccc85d38",
    "outputId": "04e3403c-3c81-4fa1-d0f6-329ce7cdf597"
   },
   "outputs": [
    {
     "name": "stdout",
     "output_type": "stream",
     "text": [
      "Endings and new beginnings: Here is what the angel number 999 means,LIFE,Olivia Munson,10:11 a.m. ET March 9,https://www.usatoday.com/story/life/2023/01/30/angel-number-999-meaning/10806425002/\n",
      "Have faith in change: 555 angel number meaning and significance,LIFE,Olivia Munson,10:11 a.m. ET March 9,https://www.usatoday.com/story/life/2023/01/13/angel-number-555-meaning/8293823001/\n",
      "A new journey of self: A guide to the angel number 111 and its meaning,LIFE,Olivia Munson,10:11 a.m. ET March 9,https://www.usatoday.com/story/life/2022/12/05/angel-number-111-meaning/10591518002/\n",
      "'A thinking vibration': What does the angel number 777 mean?,LIFE,Olivia Munson,10:11 a.m. ET March 9,https://www.usatoday.com/story/life/2023/01/16/angel-number-777-meaning/10704253002/\n",
      "#OscarsSoOffWhite! World-famous Oscars red carpet is now ... champagne,MOVIES,Bryan Alexander,12:28 p.m. ET March 9,https://www.usatoday.com/story/entertainment/movies/2023/03/08/oscars-red-carpet-2023-champagne-color/11429588002/\n",
      "Mel Brooks was OK stealing his own 'Hitler on Ice' gag for 'HOTW 2',TV,Bryan Alexander,12:26 p.m. ET March 9,https://www.usatoday.com/story/entertainment/tv/2023/03/09/mel-brooks-hulus-history-world-sequel-orson-welles/11419238002/\n",
      "Comedian Eddie Izzard reveals new name: 'Suzy Eddie Izzard',CELEBRITIES,Edward Segarra,12:26 p.m. ET March 9,https://www.usatoday.com/story/entertainment/celebrities/2023/03/07/eddie-izzard-reveals-new-name-suzy/11420160002/\n",
      "Drew Barrymore says therapist quit due to concern 'about my drinking',CELEBRITIES,Morgan Hines,12:24 p.m. ET March 9,https://www.usatoday.com/story/entertainment/celebrities/2023/03/07/drew-barrymore-says-therapist-quit-due-her-drinking-habits/11419390002/\n",
      "Raptors guard singles out ref in expletive-filled tirade,TORONTO RAPTORS,Steve Gardner,8:38 a.m. ET March 9,https://www.usatoday.com/story/sports/nba/raptors/2023/03/09/fred-vanvleet-calls-out-nba-refs-power-trip-postgame-tirade/11433952002/\n",
      "Tiger Woods in domestic dispute with ex-girlfriend over home, money,GOLF,Brent Schrotenboer,9:45 a.m. ET March 9,https://www.usatoday.com/story/sports/golf/2023/03/08/tiger-woods-erica-herman-court-claims-ex-girlfriend-home-money/11428984002/\n",
      "How a dog bone motivates one of the best teams in college basketball,SPORTS,Josh Peter,6:35 a.m. ET March 9,https://www.usatoday.com/story/sports/2023/03/09/ucla-coach-mick-cronin-uses-dog-bone-drive-surprising-success/11381143002/\n",
      "'Ochocinco' hired by HBCU as program ambassador, consultant,COLLEGE FOOTBALL,Scooby Axson,10:37 a.m. ET March 9,https://www.usatoday.com/story/sports/ncaaf/2023/03/09/chad-johnson-joining-famu-program-ambassador-consultant/11434356002/\n",
      "Hotline for public to report 'inappropriate' lessons launched in Arizona,NATION,Yana Kunichoff,12:18 p.m. ET March 9,https://www.usatoday.com/story/news/nation/2023/03/09/state-school-hotline-critical-race-theory-inappropriate/11435031002/\n",
      "3 injured, diesel spills into river after train derails in West Virginia,NATION,Christine Fernando,1:12 p.m. ET March 9,https://www.usatoday.com/story/news/nation/2023/03/09/west-virginia-train-derailment/11433945002/\n",
      "White sharks like Florida waters. Here's 11 things to know, including who's out there now,NATION,Cheryl McCloud,12:07 p.m. ET March 9,https://www.usatoday.com/story/news/nation/2023/03/09/sharks-near-florida-beaches/11434895002/\n",
      "New unlawful conduct charges for 11 Ohio officers,NATION,AP,12:06 p.m. ET March 9,https://www.usatoday.com/videos/news/nation/2023/03/09/new-unlawful-conduct-charges-11-ohio-officers/11435408002/\n"
     ]
    }
   ],
   "source": [
    "!cat articles.txt"
   ]
  }
 ],
 "metadata": {
  "colab": {
   "provenance": []
  },
  "kernelspec": {
   "display_name": "Python 3 (ipykernel)",
   "language": "python",
   "name": "python3"
  },
  "language_info": {
   "codemirror_mode": {
    "name": "ipython",
    "version": 3
   },
   "file_extension": ".py",
   "mimetype": "text/x-python",
   "name": "python",
   "nbconvert_exporter": "python",
   "pygments_lexer": "ipython3",
   "version": "3.9.12"
  }
 },
 "nbformat": 4,
 "nbformat_minor": 5
}
