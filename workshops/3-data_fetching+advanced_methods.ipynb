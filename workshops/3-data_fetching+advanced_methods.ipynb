{
 "cells": [
  {
   "cell_type": "markdown",
   "id": "ee59c11d",
   "metadata": {
    "id": "ee59c11d"
   },
   "source": [
    "## Mini Project"
   ]
  },
  {
   "cell_type": "markdown",
   "id": "cf491537",
   "metadata": {
    "id": "cf491537"
   },
   "source": [
    "### Introduction\n",
    "\n",
    "Apple provides an api to get some useful information from iTunes and Apple Book Store content. \n",
    "You can read more details about this service <a href=\"https://affiliate.itunes.apple.com/resources/documentation/itunes-store-web-service-search-api/\">here</a>. In this mini project, we will use the mentioned service to get info. about the first 50 audio books that talks about data from Apple store."
   ]
  },
  {
   "cell_type": "markdown",
   "id": "112c117d",
   "metadata": {
    "id": "112c117d"
   },
   "source": [
    "### Step .1\n",
    "- Fetch the data from using the following URL: https://itunes.apple.com/search?term=data&country=us&entity=audiobook&limit=50"
   ]
  },
  {
   "cell_type": "code",
   "execution_count": null,
   "id": "5dd642bb",
   "metadata": {
    "id": "5dd642bb"
   },
   "outputs": [],
   "source": [
    "# Your Code Here\n",
    "import requests\n",
    "import json\n",
    "import pandas as pd\n",
    "from bs4 import BeautifulSoup\n",
    "\n",
    "url = 'https://itunes.apple.com/search?term=data&country=us&entity=audiobook&limit=50'\n",
    "response = requests.get(url)\n",
    "json_data = json.loads(response.text)\n",
    "df = pd.json_normalize(json_data, 'results')"
   ]
  },
  {
   "cell_type": "markdown",
   "id": "21af3c4f",
   "metadata": {
    "id": "21af3c4f"
   },
   "source": [
    "### Step .2\n",
    "- Save these data into a DataFrame that should look as follows (extract the required data only):\n",
    "\n",
    "|    | artistName    | collectionName                                                                                         | releaseDate          | primaryGenreName            |   collectionPrice | collectionViewUrl                                                                                         |\n",
    "|---:|:--------------|:-------------------------------------------------------------------------------------------------------|:---------------------|:----------------------------|------------------:|:----------------------------------------------------------------------------------------------------------|\n",
    "|  0 | Emily Oster   | Cribsheet: A Data-Driven Guide to Better, More Relaxed Parenting, from Birth to Preschool (Unabridged) | 2019-04-23T07:00:00Z | Nonfiction                  |             14.99 | https://books.apple.com/us/audiobook/cribsheet-a-data-driven-guide-to-better-more/id1459654300?uo=4       |\n",
    "|  1 | George Gilder | Life After Google: The Fall of Big Data and the Rise of the Blockchain Economy                         | 2018-07-17T07:00:00Z | Business & Personal Finance |             14.99 | https://books.apple.com/us/audiobook/life-after-google-the-fall-of-big-data-and/id1454667331?uo=4         |\n",
    "|  .. | ...  | ...    | ... | ...  | ... | ... |\n",
    "| 49 | William Sullivan | SQL Data Warehouse Database Management, SQL Server, Structured Query Language, Business Intelligence, Data Models: Master SQL Programming (Unabridged) | 2018-05-14T07:00:00Z | Science & Nature   |              5.99 | https://books.apple.com/us/audiobook/sql-data-warehouse-database-management-sql-server-structured/id1385009049?uo=4 |"
   ]
  },
  {
   "cell_type": "code",
   "execution_count": null,
   "id": "73049472",
   "metadata": {
    "colab": {
     "base_uri": "https://localhost:8080/",
     "height": 250
    },
    "executionInfo": {
     "elapsed": 344,
     "status": "ok",
     "timestamp": 1681229714281,
     "user": {
      "displayName": "Anita Ye",
      "userId": "11121645025208224073"
     },
     "user_tz": 240
    },
    "id": "73049472",
    "outputId": "39af5600-acd1-4c7e-a629-71d15e43759d"
   },
   "outputs": [
    {
     "data": {
      "text/html": [
       "\n",
       "  <div id=\"df-f6266e31-61ef-4753-b22a-1f5241b4bc88\">\n",
       "    <div class=\"colab-df-container\">\n",
       "      <div>\n",
       "<style scoped>\n",
       "    .dataframe tbody tr th:only-of-type {\n",
       "        vertical-align: middle;\n",
       "    }\n",
       "\n",
       "    .dataframe tbody tr th {\n",
       "        vertical-align: top;\n",
       "    }\n",
       "\n",
       "    .dataframe thead th {\n",
       "        text-align: right;\n",
       "    }\n",
       "</style>\n",
       "<table border=\"1\" class=\"dataframe\">\n",
       "  <thead>\n",
       "    <tr style=\"text-align: right;\">\n",
       "      <th></th>\n",
       "      <th>artistName</th>\n",
       "      <th>collectionName</th>\n",
       "      <th>releaseDate</th>\n",
       "      <th>primaryGenreName</th>\n",
       "      <th>collectionPrice</th>\n",
       "      <th>collectionViewUrl</th>\n",
       "    </tr>\n",
       "  </thead>\n",
       "  <tbody>\n",
       "    <tr>\n",
       "      <th>0</th>\n",
       "      <td>Emily Oster</td>\n",
       "      <td>Cribsheet: A Data-Driven Guide to Better, More...</td>\n",
       "      <td>2019-04-23T07:00:00Z</td>\n",
       "      <td>Nonfiction</td>\n",
       "      <td>14.99</td>\n",
       "      <td>https://books.apple.com/us/audiobook/cribsheet...</td>\n",
       "    </tr>\n",
       "    <tr>\n",
       "      <th>1</th>\n",
       "      <td>Cathy O'Neil</td>\n",
       "      <td>Weapons of Math Destruction: How Big Data Incr...</td>\n",
       "      <td>2016-09-06T07:00:00Z</td>\n",
       "      <td>Nonfiction</td>\n",
       "      <td>14.99</td>\n",
       "      <td>https://books.apple.com/us/audiobook/weapons-o...</td>\n",
       "    </tr>\n",
       "    <tr>\n",
       "      <th>2</th>\n",
       "      <td>Gene Kim</td>\n",
       "      <td>The Unicorn Project: A Novel About Developers,...</td>\n",
       "      <td>2019-11-26T08:00:00Z</td>\n",
       "      <td>Business &amp; Personal Finance</td>\n",
       "      <td>21.99</td>\n",
       "      <td>https://books.apple.com/us/audiobook/the-unico...</td>\n",
       "    </tr>\n",
       "    <tr>\n",
       "      <th>3</th>\n",
       "      <td>Charles Wheelan</td>\n",
       "      <td>Naked Statistics: Stripping the Dread from the...</td>\n",
       "      <td>2013-04-23T07:00:00Z</td>\n",
       "      <td>Nonfiction</td>\n",
       "      <td>21.99</td>\n",
       "      <td>https://books.apple.com/us/audiobook/naked-sta...</td>\n",
       "    </tr>\n",
       "    <tr>\n",
       "      <th>4</th>\n",
       "      <td>Emily Oster</td>\n",
       "      <td>The Family Firm: A Data-Driven Guide to Better...</td>\n",
       "      <td>2021-08-03T07:00:00Z</td>\n",
       "      <td>Nonfiction</td>\n",
       "      <td>14.99</td>\n",
       "      <td>https://books.apple.com/us/audiobook/the-famil...</td>\n",
       "    </tr>\n",
       "  </tbody>\n",
       "</table>\n",
       "</div>\n",
       "      <button class=\"colab-df-convert\" onclick=\"convertToInteractive('df-f6266e31-61ef-4753-b22a-1f5241b4bc88')\"\n",
       "              title=\"Convert this dataframe to an interactive table.\"\n",
       "              style=\"display:none;\">\n",
       "        \n",
       "  <svg xmlns=\"http://www.w3.org/2000/svg\" height=\"24px\"viewBox=\"0 0 24 24\"\n",
       "       width=\"24px\">\n",
       "    <path d=\"M0 0h24v24H0V0z\" fill=\"none\"/>\n",
       "    <path d=\"M18.56 5.44l.94 2.06.94-2.06 2.06-.94-2.06-.94-.94-2.06-.94 2.06-2.06.94zm-11 1L8.5 8.5l.94-2.06 2.06-.94-2.06-.94L8.5 2.5l-.94 2.06-2.06.94zm10 10l.94 2.06.94-2.06 2.06-.94-2.06-.94-.94-2.06-.94 2.06-2.06.94z\"/><path d=\"M17.41 7.96l-1.37-1.37c-.4-.4-.92-.59-1.43-.59-.52 0-1.04.2-1.43.59L10.3 9.45l-7.72 7.72c-.78.78-.78 2.05 0 2.83L4 21.41c.39.39.9.59 1.41.59.51 0 1.02-.2 1.41-.59l7.78-7.78 2.81-2.81c.8-.78.8-2.07 0-2.86zM5.41 20L4 18.59l7.72-7.72 1.47 1.35L5.41 20z\"/>\n",
       "  </svg>\n",
       "      </button>\n",
       "      \n",
       "  <style>\n",
       "    .colab-df-container {\n",
       "      display:flex;\n",
       "      flex-wrap:wrap;\n",
       "      gap: 12px;\n",
       "    }\n",
       "\n",
       "    .colab-df-convert {\n",
       "      background-color: #E8F0FE;\n",
       "      border: none;\n",
       "      border-radius: 50%;\n",
       "      cursor: pointer;\n",
       "      display: none;\n",
       "      fill: #1967D2;\n",
       "      height: 32px;\n",
       "      padding: 0 0 0 0;\n",
       "      width: 32px;\n",
       "    }\n",
       "\n",
       "    .colab-df-convert:hover {\n",
       "      background-color: #E2EBFA;\n",
       "      box-shadow: 0px 1px 2px rgba(60, 64, 67, 0.3), 0px 1px 3px 1px rgba(60, 64, 67, 0.15);\n",
       "      fill: #174EA6;\n",
       "    }\n",
       "\n",
       "    [theme=dark] .colab-df-convert {\n",
       "      background-color: #3B4455;\n",
       "      fill: #D2E3FC;\n",
       "    }\n",
       "\n",
       "    [theme=dark] .colab-df-convert:hover {\n",
       "      background-color: #434B5C;\n",
       "      box-shadow: 0px 1px 3px 1px rgba(0, 0, 0, 0.15);\n",
       "      filter: drop-shadow(0px 1px 2px rgba(0, 0, 0, 0.3));\n",
       "      fill: #FFFFFF;\n",
       "    }\n",
       "  </style>\n",
       "\n",
       "      <script>\n",
       "        const buttonEl =\n",
       "          document.querySelector('#df-f6266e31-61ef-4753-b22a-1f5241b4bc88 button.colab-df-convert');\n",
       "        buttonEl.style.display =\n",
       "          google.colab.kernel.accessAllowed ? 'block' : 'none';\n",
       "\n",
       "        async function convertToInteractive(key) {\n",
       "          const element = document.querySelector('#df-f6266e31-61ef-4753-b22a-1f5241b4bc88');\n",
       "          const dataTable =\n",
       "            await google.colab.kernel.invokeFunction('convertToInteractive',\n",
       "                                                     [key], {});\n",
       "          if (!dataTable) return;\n",
       "\n",
       "          const docLinkHtml = 'Like what you see? Visit the ' +\n",
       "            '<a target=\"_blank\" href=https://colab.research.google.com/notebooks/data_table.ipynb>data table notebook</a>'\n",
       "            + ' to learn more about interactive tables.';\n",
       "          element.innerHTML = '';\n",
       "          dataTable['output_type'] = 'display_data';\n",
       "          await google.colab.output.renderOutput(dataTable, element);\n",
       "          const docLink = document.createElement('div');\n",
       "          docLink.innerHTML = docLinkHtml;\n",
       "          element.appendChild(docLink);\n",
       "        }\n",
       "      </script>\n",
       "    </div>\n",
       "  </div>\n",
       "  "
      ],
      "text/plain": [
       "        artistName                                     collectionName  \\\n",
       "0      Emily Oster  Cribsheet: A Data-Driven Guide to Better, More...   \n",
       "1     Cathy O'Neil  Weapons of Math Destruction: How Big Data Incr...   \n",
       "2         Gene Kim  The Unicorn Project: A Novel About Developers,...   \n",
       "3  Charles Wheelan  Naked Statistics: Stripping the Dread from the...   \n",
       "4      Emily Oster  The Family Firm: A Data-Driven Guide to Better...   \n",
       "\n",
       "            releaseDate             primaryGenreName  collectionPrice  \\\n",
       "0  2019-04-23T07:00:00Z                   Nonfiction            14.99   \n",
       "1  2016-09-06T07:00:00Z                   Nonfiction            14.99   \n",
       "2  2019-11-26T08:00:00Z  Business & Personal Finance            21.99   \n",
       "3  2013-04-23T07:00:00Z                   Nonfiction            21.99   \n",
       "4  2021-08-03T07:00:00Z                   Nonfiction            14.99   \n",
       "\n",
       "                                   collectionViewUrl  \n",
       "0  https://books.apple.com/us/audiobook/cribsheet...  \n",
       "1  https://books.apple.com/us/audiobook/weapons-o...  \n",
       "2  https://books.apple.com/us/audiobook/the-unico...  \n",
       "3  https://books.apple.com/us/audiobook/naked-sta...  \n",
       "4  https://books.apple.com/us/audiobook/the-famil...  "
      ]
     },
     "execution_count": 2,
     "metadata": {},
     "output_type": "execute_result"
    }
   ],
   "source": [
    "# Your Code Here\n",
    "sub_df = df[['artistName', 'collectionName', 'releaseDate', 'primaryGenreName', 'collectionPrice', 'collectionViewUrl']]\n",
    "sub_df.head()"
   ]
  },
  {
   "cell_type": "markdown",
   "id": "aed16fbb",
   "metadata": {
    "id": "aed16fbb"
   },
   "source": [
    "### Step .3\n",
    "- Rename the dataframe columns to be: `'author','collectionName','date','genre','price','url'`"
   ]
  },
  {
   "cell_type": "code",
   "execution_count": null,
   "id": "a268162e",
   "metadata": {
    "colab": {
     "base_uri": "https://localhost:8080/",
     "height": 206
    },
    "executionInfo": {
     "elapsed": 257,
     "status": "ok",
     "timestamp": 1681229717227,
     "user": {
      "displayName": "Anita Ye",
      "userId": "11121645025208224073"
     },
     "user_tz": 240
    },
    "id": "a268162e",
    "outputId": "d966dd50-c7f6-4686-c4c4-705b2dfc7a12"
   },
   "outputs": [
    {
     "data": {
      "text/html": [
       "\n",
       "  <div id=\"df-bf2b4d96-4b8b-40cb-9749-749ad49f9228\">\n",
       "    <div class=\"colab-df-container\">\n",
       "      <div>\n",
       "<style scoped>\n",
       "    .dataframe tbody tr th:only-of-type {\n",
       "        vertical-align: middle;\n",
       "    }\n",
       "\n",
       "    .dataframe tbody tr th {\n",
       "        vertical-align: top;\n",
       "    }\n",
       "\n",
       "    .dataframe thead th {\n",
       "        text-align: right;\n",
       "    }\n",
       "</style>\n",
       "<table border=\"1\" class=\"dataframe\">\n",
       "  <thead>\n",
       "    <tr style=\"text-align: right;\">\n",
       "      <th></th>\n",
       "      <th>author</th>\n",
       "      <th>collectionName</th>\n",
       "      <th>date</th>\n",
       "      <th>genre</th>\n",
       "      <th>price</th>\n",
       "      <th>url</th>\n",
       "    </tr>\n",
       "  </thead>\n",
       "  <tbody>\n",
       "    <tr>\n",
       "      <th>0</th>\n",
       "      <td>Emily Oster</td>\n",
       "      <td>Cribsheet: A Data-Driven Guide to Better, More...</td>\n",
       "      <td>2019-04-23T07:00:00Z</td>\n",
       "      <td>Nonfiction</td>\n",
       "      <td>14.99</td>\n",
       "      <td>https://books.apple.com/us/audiobook/cribsheet...</td>\n",
       "    </tr>\n",
       "    <tr>\n",
       "      <th>1</th>\n",
       "      <td>Cathy O'Neil</td>\n",
       "      <td>Weapons of Math Destruction: How Big Data Incr...</td>\n",
       "      <td>2016-09-06T07:00:00Z</td>\n",
       "      <td>Nonfiction</td>\n",
       "      <td>14.99</td>\n",
       "      <td>https://books.apple.com/us/audiobook/weapons-o...</td>\n",
       "    </tr>\n",
       "    <tr>\n",
       "      <th>2</th>\n",
       "      <td>Gene Kim</td>\n",
       "      <td>The Unicorn Project: A Novel About Developers,...</td>\n",
       "      <td>2019-11-26T08:00:00Z</td>\n",
       "      <td>Business &amp; Personal Finance</td>\n",
       "      <td>21.99</td>\n",
       "      <td>https://books.apple.com/us/audiobook/the-unico...</td>\n",
       "    </tr>\n",
       "    <tr>\n",
       "      <th>3</th>\n",
       "      <td>Charles Wheelan</td>\n",
       "      <td>Naked Statistics: Stripping the Dread from the...</td>\n",
       "      <td>2013-04-23T07:00:00Z</td>\n",
       "      <td>Nonfiction</td>\n",
       "      <td>21.99</td>\n",
       "      <td>https://books.apple.com/us/audiobook/naked-sta...</td>\n",
       "    </tr>\n",
       "    <tr>\n",
       "      <th>4</th>\n",
       "      <td>Emily Oster</td>\n",
       "      <td>The Family Firm: A Data-Driven Guide to Better...</td>\n",
       "      <td>2021-08-03T07:00:00Z</td>\n",
       "      <td>Nonfiction</td>\n",
       "      <td>14.99</td>\n",
       "      <td>https://books.apple.com/us/audiobook/the-famil...</td>\n",
       "    </tr>\n",
       "  </tbody>\n",
       "</table>\n",
       "</div>\n",
       "      <button class=\"colab-df-convert\" onclick=\"convertToInteractive('df-bf2b4d96-4b8b-40cb-9749-749ad49f9228')\"\n",
       "              title=\"Convert this dataframe to an interactive table.\"\n",
       "              style=\"display:none;\">\n",
       "        \n",
       "  <svg xmlns=\"http://www.w3.org/2000/svg\" height=\"24px\"viewBox=\"0 0 24 24\"\n",
       "       width=\"24px\">\n",
       "    <path d=\"M0 0h24v24H0V0z\" fill=\"none\"/>\n",
       "    <path d=\"M18.56 5.44l.94 2.06.94-2.06 2.06-.94-2.06-.94-.94-2.06-.94 2.06-2.06.94zm-11 1L8.5 8.5l.94-2.06 2.06-.94-2.06-.94L8.5 2.5l-.94 2.06-2.06.94zm10 10l.94 2.06.94-2.06 2.06-.94-2.06-.94-.94-2.06-.94 2.06-2.06.94z\"/><path d=\"M17.41 7.96l-1.37-1.37c-.4-.4-.92-.59-1.43-.59-.52 0-1.04.2-1.43.59L10.3 9.45l-7.72 7.72c-.78.78-.78 2.05 0 2.83L4 21.41c.39.39.9.59 1.41.59.51 0 1.02-.2 1.41-.59l7.78-7.78 2.81-2.81c.8-.78.8-2.07 0-2.86zM5.41 20L4 18.59l7.72-7.72 1.47 1.35L5.41 20z\"/>\n",
       "  </svg>\n",
       "      </button>\n",
       "      \n",
       "  <style>\n",
       "    .colab-df-container {\n",
       "      display:flex;\n",
       "      flex-wrap:wrap;\n",
       "      gap: 12px;\n",
       "    }\n",
       "\n",
       "    .colab-df-convert {\n",
       "      background-color: #E8F0FE;\n",
       "      border: none;\n",
       "      border-radius: 50%;\n",
       "      cursor: pointer;\n",
       "      display: none;\n",
       "      fill: #1967D2;\n",
       "      height: 32px;\n",
       "      padding: 0 0 0 0;\n",
       "      width: 32px;\n",
       "    }\n",
       "\n",
       "    .colab-df-convert:hover {\n",
       "      background-color: #E2EBFA;\n",
       "      box-shadow: 0px 1px 2px rgba(60, 64, 67, 0.3), 0px 1px 3px 1px rgba(60, 64, 67, 0.15);\n",
       "      fill: #174EA6;\n",
       "    }\n",
       "\n",
       "    [theme=dark] .colab-df-convert {\n",
       "      background-color: #3B4455;\n",
       "      fill: #D2E3FC;\n",
       "    }\n",
       "\n",
       "    [theme=dark] .colab-df-convert:hover {\n",
       "      background-color: #434B5C;\n",
       "      box-shadow: 0px 1px 3px 1px rgba(0, 0, 0, 0.15);\n",
       "      filter: drop-shadow(0px 1px 2px rgba(0, 0, 0, 0.3));\n",
       "      fill: #FFFFFF;\n",
       "    }\n",
       "  </style>\n",
       "\n",
       "      <script>\n",
       "        const buttonEl =\n",
       "          document.querySelector('#df-bf2b4d96-4b8b-40cb-9749-749ad49f9228 button.colab-df-convert');\n",
       "        buttonEl.style.display =\n",
       "          google.colab.kernel.accessAllowed ? 'block' : 'none';\n",
       "\n",
       "        async function convertToInteractive(key) {\n",
       "          const element = document.querySelector('#df-bf2b4d96-4b8b-40cb-9749-749ad49f9228');\n",
       "          const dataTable =\n",
       "            await google.colab.kernel.invokeFunction('convertToInteractive',\n",
       "                                                     [key], {});\n",
       "          if (!dataTable) return;\n",
       "\n",
       "          const docLinkHtml = 'Like what you see? Visit the ' +\n",
       "            '<a target=\"_blank\" href=https://colab.research.google.com/notebooks/data_table.ipynb>data table notebook</a>'\n",
       "            + ' to learn more about interactive tables.';\n",
       "          element.innerHTML = '';\n",
       "          dataTable['output_type'] = 'display_data';\n",
       "          await google.colab.output.renderOutput(dataTable, element);\n",
       "          const docLink = document.createElement('div');\n",
       "          docLink.innerHTML = docLinkHtml;\n",
       "          element.appendChild(docLink);\n",
       "        }\n",
       "      </script>\n",
       "    </div>\n",
       "  </div>\n",
       "  "
      ],
      "text/plain": [
       "            author                                     collectionName  \\\n",
       "0      Emily Oster  Cribsheet: A Data-Driven Guide to Better, More...   \n",
       "1     Cathy O'Neil  Weapons of Math Destruction: How Big Data Incr...   \n",
       "2         Gene Kim  The Unicorn Project: A Novel About Developers,...   \n",
       "3  Charles Wheelan  Naked Statistics: Stripping the Dread from the...   \n",
       "4      Emily Oster  The Family Firm: A Data-Driven Guide to Better...   \n",
       "\n",
       "                   date                        genre  price  \\\n",
       "0  2019-04-23T07:00:00Z                   Nonfiction  14.99   \n",
       "1  2016-09-06T07:00:00Z                   Nonfiction  14.99   \n",
       "2  2019-11-26T08:00:00Z  Business & Personal Finance  21.99   \n",
       "3  2013-04-23T07:00:00Z                   Nonfiction  21.99   \n",
       "4  2021-08-03T07:00:00Z                   Nonfiction  14.99   \n",
       "\n",
       "                                                 url  \n",
       "0  https://books.apple.com/us/audiobook/cribsheet...  \n",
       "1  https://books.apple.com/us/audiobook/weapons-o...  \n",
       "2  https://books.apple.com/us/audiobook/the-unico...  \n",
       "3  https://books.apple.com/us/audiobook/naked-sta...  \n",
       "4  https://books.apple.com/us/audiobook/the-famil...  "
      ]
     },
     "execution_count": 3,
     "metadata": {},
     "output_type": "execute_result"
    }
   ],
   "source": [
    "# Your Code Here\n",
    "named_df = sub_df.rename(columns={\n",
    "    'artistName': 'author',\n",
    "    'collectionName': 'collectionName',\n",
    "    'releaseDate': 'date',\n",
    "    'primaryGenreName': 'genre',\n",
    "    'collectionPrice': 'price',\n",
    "    'collectionViewUrl': 'url'\n",
    "})\n",
    "named_df.head()"
   ]
  },
  {
   "cell_type": "markdown",
   "id": "cdf24c53",
   "metadata": {
    "id": "cdf24c53"
   },
   "source": [
    "### Step .4\n",
    "- Your dataFrame doesn't contain some importat data. such as (`the name of the narrator`, and `the length of the audiobook`).\n",
    "So add this data to each book in the dataframe, by fetching and extracting it from the audiobook `url` that exist in your dataframe for each book\n",
    "\n",
    "**Hints:** \n",
    "   - Write code to visit each url, find the div with the class `book-badge__value` in that url, then you will get all these values in a list.\n",
    "   - You can use `df[col_name].apply(function_name)` to apply certain function on each value in a certain column\n"
   ]
  },
  {
   "cell_type": "code",
   "execution_count": null,
   "id": "3b2a4ef9",
   "metadata": {
    "id": "3b2a4ef9"
   },
   "outputs": [],
   "source": [
    "# Your Code Here\n",
    "url_list = named_df['url']\n",
    "narrator_list = []\n",
    "length_list = []\n",
    "for url in url_list:\n",
    "    response = requests.get(url)\n",
    "    soup = BeautifulSoup(response.text)\n",
    "    value_div = soup.find_all('div', {'class': 'book-badge__value'})\n",
    "    i = 0\n",
    "    for element in value_div:\n",
    "        if i == 0:\n",
    "            narrator = element.text.strip()\n",
    "            narrator_list.append(narrator)\n",
    "        elif i == 2:\n",
    "            length = element.text.strip()\n",
    "            length_list.append(length)\n",
    "        i += 1"
   ]
  },
  {
   "cell_type": "code",
   "execution_count": null,
   "id": "39975c4d-2d9f-4f40-a0c7-86ffcaa027bc",
   "metadata": {
    "colab": {
     "base_uri": "https://localhost:8080/",
     "height": 337
    },
    "executionInfo": {
     "elapsed": 149,
     "status": "ok",
     "timestamp": 1681229785485,
     "user": {
      "displayName": "Anita Ye",
      "userId": "11121645025208224073"
     },
     "user_tz": 240
    },
    "id": "39975c4d-2d9f-4f40-a0c7-86ffcaa027bc",
    "outputId": "6f826906-fe5f-458e-cba6-e234cc7c1fd3"
   },
   "outputs": [
    {
     "data": {
      "text/html": [
       "\n",
       "  <div id=\"df-d2780f70-8ede-4d2a-895e-7680b8e555e4\">\n",
       "    <div class=\"colab-df-container\">\n",
       "      <div>\n",
       "<style scoped>\n",
       "    .dataframe tbody tr th:only-of-type {\n",
       "        vertical-align: middle;\n",
       "    }\n",
       "\n",
       "    .dataframe tbody tr th {\n",
       "        vertical-align: top;\n",
       "    }\n",
       "\n",
       "    .dataframe thead th {\n",
       "        text-align: right;\n",
       "    }\n",
       "</style>\n",
       "<table border=\"1\" class=\"dataframe\">\n",
       "  <thead>\n",
       "    <tr style=\"text-align: right;\">\n",
       "      <th></th>\n",
       "      <th>author</th>\n",
       "      <th>collectionName</th>\n",
       "      <th>date</th>\n",
       "      <th>genre</th>\n",
       "      <th>price</th>\n",
       "      <th>url</th>\n",
       "      <th>narrator</th>\n",
       "      <th>length</th>\n",
       "    </tr>\n",
       "  </thead>\n",
       "  <tbody>\n",
       "    <tr>\n",
       "      <th>0</th>\n",
       "      <td>Emily Oster</td>\n",
       "      <td>Cribsheet: A Data-Driven Guide to Better, More...</td>\n",
       "      <td>2019-04-23T07:00:00Z</td>\n",
       "      <td>Nonfiction</td>\n",
       "      <td>14.99</td>\n",
       "      <td>https://books.apple.com/us/audiobook/cribsheet...</td>\n",
       "      <td>KV</td>\n",
       "      <td>10:36</td>\n",
       "    </tr>\n",
       "    <tr>\n",
       "      <th>1</th>\n",
       "      <td>Cathy O'Neil</td>\n",
       "      <td>Weapons of Math Destruction: How Big Data Incr...</td>\n",
       "      <td>2016-09-06T07:00:00Z</td>\n",
       "      <td>Nonfiction</td>\n",
       "      <td>14.99</td>\n",
       "      <td>https://books.apple.com/us/audiobook/weapons-o...</td>\n",
       "      <td>CO</td>\n",
       "      <td>06:23</td>\n",
       "    </tr>\n",
       "    <tr>\n",
       "      <th>2</th>\n",
       "      <td>Gene Kim</td>\n",
       "      <td>The Unicorn Project: A Novel About Developers,...</td>\n",
       "      <td>2019-11-26T08:00:00Z</td>\n",
       "      <td>Business &amp; Personal Finance</td>\n",
       "      <td>21.99</td>\n",
       "      <td>https://books.apple.com/us/audiobook/the-unico...</td>\n",
       "      <td>FC</td>\n",
       "      <td>12:25</td>\n",
       "    </tr>\n",
       "    <tr>\n",
       "      <th>3</th>\n",
       "      <td>Charles Wheelan</td>\n",
       "      <td>Naked Statistics: Stripping the Dread from the...</td>\n",
       "      <td>2013-04-23T07:00:00Z</td>\n",
       "      <td>Nonfiction</td>\n",
       "      <td>21.99</td>\n",
       "      <td>https://books.apple.com/us/audiobook/naked-sta...</td>\n",
       "      <td>JD</td>\n",
       "      <td>10:49</td>\n",
       "    </tr>\n",
       "    <tr>\n",
       "      <th>4</th>\n",
       "      <td>Emily Oster</td>\n",
       "      <td>The Family Firm: A Data-Driven Guide to Better...</td>\n",
       "      <td>2021-08-03T07:00:00Z</td>\n",
       "      <td>Nonfiction</td>\n",
       "      <td>14.99</td>\n",
       "      <td>https://books.apple.com/us/audiobook/the-famil...</td>\n",
       "      <td>EO</td>\n",
       "      <td>07:56</td>\n",
       "    </tr>\n",
       "  </tbody>\n",
       "</table>\n",
       "</div>\n",
       "      <button class=\"colab-df-convert\" onclick=\"convertToInteractive('df-d2780f70-8ede-4d2a-895e-7680b8e555e4')\"\n",
       "              title=\"Convert this dataframe to an interactive table.\"\n",
       "              style=\"display:none;\">\n",
       "        \n",
       "  <svg xmlns=\"http://www.w3.org/2000/svg\" height=\"24px\"viewBox=\"0 0 24 24\"\n",
       "       width=\"24px\">\n",
       "    <path d=\"M0 0h24v24H0V0z\" fill=\"none\"/>\n",
       "    <path d=\"M18.56 5.44l.94 2.06.94-2.06 2.06-.94-2.06-.94-.94-2.06-.94 2.06-2.06.94zm-11 1L8.5 8.5l.94-2.06 2.06-.94-2.06-.94L8.5 2.5l-.94 2.06-2.06.94zm10 10l.94 2.06.94-2.06 2.06-.94-2.06-.94-.94-2.06-.94 2.06-2.06.94z\"/><path d=\"M17.41 7.96l-1.37-1.37c-.4-.4-.92-.59-1.43-.59-.52 0-1.04.2-1.43.59L10.3 9.45l-7.72 7.72c-.78.78-.78 2.05 0 2.83L4 21.41c.39.39.9.59 1.41.59.51 0 1.02-.2 1.41-.59l7.78-7.78 2.81-2.81c.8-.78.8-2.07 0-2.86zM5.41 20L4 18.59l7.72-7.72 1.47 1.35L5.41 20z\"/>\n",
       "  </svg>\n",
       "      </button>\n",
       "      \n",
       "  <style>\n",
       "    .colab-df-container {\n",
       "      display:flex;\n",
       "      flex-wrap:wrap;\n",
       "      gap: 12px;\n",
       "    }\n",
       "\n",
       "    .colab-df-convert {\n",
       "      background-color: #E8F0FE;\n",
       "      border: none;\n",
       "      border-radius: 50%;\n",
       "      cursor: pointer;\n",
       "      display: none;\n",
       "      fill: #1967D2;\n",
       "      height: 32px;\n",
       "      padding: 0 0 0 0;\n",
       "      width: 32px;\n",
       "    }\n",
       "\n",
       "    .colab-df-convert:hover {\n",
       "      background-color: #E2EBFA;\n",
       "      box-shadow: 0px 1px 2px rgba(60, 64, 67, 0.3), 0px 1px 3px 1px rgba(60, 64, 67, 0.15);\n",
       "      fill: #174EA6;\n",
       "    }\n",
       "\n",
       "    [theme=dark] .colab-df-convert {\n",
       "      background-color: #3B4455;\n",
       "      fill: #D2E3FC;\n",
       "    }\n",
       "\n",
       "    [theme=dark] .colab-df-convert:hover {\n",
       "      background-color: #434B5C;\n",
       "      box-shadow: 0px 1px 3px 1px rgba(0, 0, 0, 0.15);\n",
       "      filter: drop-shadow(0px 1px 2px rgba(0, 0, 0, 0.3));\n",
       "      fill: #FFFFFF;\n",
       "    }\n",
       "  </style>\n",
       "\n",
       "      <script>\n",
       "        const buttonEl =\n",
       "          document.querySelector('#df-d2780f70-8ede-4d2a-895e-7680b8e555e4 button.colab-df-convert');\n",
       "        buttonEl.style.display =\n",
       "          google.colab.kernel.accessAllowed ? 'block' : 'none';\n",
       "\n",
       "        async function convertToInteractive(key) {\n",
       "          const element = document.querySelector('#df-d2780f70-8ede-4d2a-895e-7680b8e555e4');\n",
       "          const dataTable =\n",
       "            await google.colab.kernel.invokeFunction('convertToInteractive',\n",
       "                                                     [key], {});\n",
       "          if (!dataTable) return;\n",
       "\n",
       "          const docLinkHtml = 'Like what you see? Visit the ' +\n",
       "            '<a target=\"_blank\" href=https://colab.research.google.com/notebooks/data_table.ipynb>data table notebook</a>'\n",
       "            + ' to learn more about interactive tables.';\n",
       "          element.innerHTML = '';\n",
       "          dataTable['output_type'] = 'display_data';\n",
       "          await google.colab.output.renderOutput(dataTable, element);\n",
       "          const docLink = document.createElement('div');\n",
       "          docLink.innerHTML = docLinkHtml;\n",
       "          element.appendChild(docLink);\n",
       "        }\n",
       "      </script>\n",
       "    </div>\n",
       "  </div>\n",
       "  "
      ],
      "text/plain": [
       "            author                                     collectionName  \\\n",
       "0      Emily Oster  Cribsheet: A Data-Driven Guide to Better, More...   \n",
       "1     Cathy O'Neil  Weapons of Math Destruction: How Big Data Incr...   \n",
       "2         Gene Kim  The Unicorn Project: A Novel About Developers,...   \n",
       "3  Charles Wheelan  Naked Statistics: Stripping the Dread from the...   \n",
       "4      Emily Oster  The Family Firm: A Data-Driven Guide to Better...   \n",
       "\n",
       "                   date                        genre  price  \\\n",
       "0  2019-04-23T07:00:00Z                   Nonfiction  14.99   \n",
       "1  2016-09-06T07:00:00Z                   Nonfiction  14.99   \n",
       "2  2019-11-26T08:00:00Z  Business & Personal Finance  21.99   \n",
       "3  2013-04-23T07:00:00Z                   Nonfiction  21.99   \n",
       "4  2021-08-03T07:00:00Z                   Nonfiction  14.99   \n",
       "\n",
       "                                                 url narrator length  \n",
       "0  https://books.apple.com/us/audiobook/cribsheet...       KV  10:36  \n",
       "1  https://books.apple.com/us/audiobook/weapons-o...       CO  06:23  \n",
       "2  https://books.apple.com/us/audiobook/the-unico...       FC  12:25  \n",
       "3  https://books.apple.com/us/audiobook/naked-sta...       JD  10:49  \n",
       "4  https://books.apple.com/us/audiobook/the-famil...       EO  07:56  "
      ]
     },
     "execution_count": 7,
     "metadata": {},
     "output_type": "execute_result"
    }
   ],
   "source": [
    "named_df['narrator'] = narrator_list\n",
    "named_df['length'] = length_list\n",
    "named_df.head()"
   ]
  },
  {
   "cell_type": "markdown",
   "id": "c354ee54",
   "metadata": {
    "id": "c354ee54"
   },
   "source": [
    "### Step .5\n",
    "- In the column date keep only the year\n",
    "- Convert `year` into `int` datatype and `price` to `float` datatype\n",
    "- Remove the column `url` from the dataframe as it is not required anymore\n",
    "\n",
    "Your dataFrame should look as follows:\n",
    "\n",
    "|    | author        | collectionName                                                                                         |   date | genre                       |   price | narrator   | length   |\n",
    "|---:|:--------------|:-------------------------------------------------------------------------------------------------------|-------:|:----------------------------|--------:|:-----------|:---------|\n",
    "|  0 | Emily Oster   | Cribsheet: A Data-Driven Guide to Better, More Relaxed Parenting, from Birth to Preschool (Unabridged) |   2019 | Nonfiction                  |   14.99 | KV         | 10:36    |\n",
    "|  1 | George Gilder | Life After Google: The Fall of Big Data and the Rise of the Blockchain Economy                         |   2018 | Business & Personal Finance |   14.99 | EMS        | 09:38    |\n",
    "|  .. | ...  | ...    | ... | ...  | ... | \n",
    "| 49 | William Sullivan | SQL Data Warehouse Database Management, SQL Server, Structured Query Language, Business Intelligence, Data Models: Master SQL Programming (Unabridged) |   2018 | Science & Nature |    5.99 | LH         | 02:49    |"
   ]
  },
  {
   "cell_type": "code",
   "execution_count": null,
   "id": "309144c2",
   "metadata": {
    "colab": {
     "base_uri": "https://localhost:8080/",
     "height": 206
    },
    "executionInfo": {
     "elapsed": 183,
     "status": "ok",
     "timestamp": 1681229798938,
     "user": {
      "displayName": "Anita Ye",
      "userId": "11121645025208224073"
     },
     "user_tz": 240
    },
    "id": "309144c2",
    "outputId": "65be8b89-633e-4288-b621-637cfb0747c4"
   },
   "outputs": [
    {
     "data": {
      "text/html": [
       "\n",
       "  <div id=\"df-108c797b-0f7b-40fb-970c-418f93334476\">\n",
       "    <div class=\"colab-df-container\">\n",
       "      <div>\n",
       "<style scoped>\n",
       "    .dataframe tbody tr th:only-of-type {\n",
       "        vertical-align: middle;\n",
       "    }\n",
       "\n",
       "    .dataframe tbody tr th {\n",
       "        vertical-align: top;\n",
       "    }\n",
       "\n",
       "    .dataframe thead th {\n",
       "        text-align: right;\n",
       "    }\n",
       "</style>\n",
       "<table border=\"1\" class=\"dataframe\">\n",
       "  <thead>\n",
       "    <tr style=\"text-align: right;\">\n",
       "      <th></th>\n",
       "      <th>author</th>\n",
       "      <th>collectionName</th>\n",
       "      <th>date</th>\n",
       "      <th>genre</th>\n",
       "      <th>price</th>\n",
       "      <th>narrator</th>\n",
       "      <th>length</th>\n",
       "    </tr>\n",
       "  </thead>\n",
       "  <tbody>\n",
       "    <tr>\n",
       "      <th>0</th>\n",
       "      <td>Emily Oster</td>\n",
       "      <td>Cribsheet: A Data-Driven Guide to Better, More...</td>\n",
       "      <td>2019</td>\n",
       "      <td>Nonfiction</td>\n",
       "      <td>14.99</td>\n",
       "      <td>KV</td>\n",
       "      <td>10:36</td>\n",
       "    </tr>\n",
       "    <tr>\n",
       "      <th>1</th>\n",
       "      <td>Cathy O'Neil</td>\n",
       "      <td>Weapons of Math Destruction: How Big Data Incr...</td>\n",
       "      <td>2016</td>\n",
       "      <td>Nonfiction</td>\n",
       "      <td>14.99</td>\n",
       "      <td>CO</td>\n",
       "      <td>06:23</td>\n",
       "    </tr>\n",
       "    <tr>\n",
       "      <th>2</th>\n",
       "      <td>Gene Kim</td>\n",
       "      <td>The Unicorn Project: A Novel About Developers,...</td>\n",
       "      <td>2019</td>\n",
       "      <td>Business &amp; Personal Finance</td>\n",
       "      <td>21.99</td>\n",
       "      <td>FC</td>\n",
       "      <td>12:25</td>\n",
       "    </tr>\n",
       "    <tr>\n",
       "      <th>3</th>\n",
       "      <td>Charles Wheelan</td>\n",
       "      <td>Naked Statistics: Stripping the Dread from the...</td>\n",
       "      <td>2013</td>\n",
       "      <td>Nonfiction</td>\n",
       "      <td>21.99</td>\n",
       "      <td>JD</td>\n",
       "      <td>10:49</td>\n",
       "    </tr>\n",
       "    <tr>\n",
       "      <th>4</th>\n",
       "      <td>Emily Oster</td>\n",
       "      <td>The Family Firm: A Data-Driven Guide to Better...</td>\n",
       "      <td>2021</td>\n",
       "      <td>Nonfiction</td>\n",
       "      <td>14.99</td>\n",
       "      <td>EO</td>\n",
       "      <td>07:56</td>\n",
       "    </tr>\n",
       "  </tbody>\n",
       "</table>\n",
       "</div>\n",
       "      <button class=\"colab-df-convert\" onclick=\"convertToInteractive('df-108c797b-0f7b-40fb-970c-418f93334476')\"\n",
       "              title=\"Convert this dataframe to an interactive table.\"\n",
       "              style=\"display:none;\">\n",
       "        \n",
       "  <svg xmlns=\"http://www.w3.org/2000/svg\" height=\"24px\"viewBox=\"0 0 24 24\"\n",
       "       width=\"24px\">\n",
       "    <path d=\"M0 0h24v24H0V0z\" fill=\"none\"/>\n",
       "    <path d=\"M18.56 5.44l.94 2.06.94-2.06 2.06-.94-2.06-.94-.94-2.06-.94 2.06-2.06.94zm-11 1L8.5 8.5l.94-2.06 2.06-.94-2.06-.94L8.5 2.5l-.94 2.06-2.06.94zm10 10l.94 2.06.94-2.06 2.06-.94-2.06-.94-.94-2.06-.94 2.06-2.06.94z\"/><path d=\"M17.41 7.96l-1.37-1.37c-.4-.4-.92-.59-1.43-.59-.52 0-1.04.2-1.43.59L10.3 9.45l-7.72 7.72c-.78.78-.78 2.05 0 2.83L4 21.41c.39.39.9.59 1.41.59.51 0 1.02-.2 1.41-.59l7.78-7.78 2.81-2.81c.8-.78.8-2.07 0-2.86zM5.41 20L4 18.59l7.72-7.72 1.47 1.35L5.41 20z\"/>\n",
       "  </svg>\n",
       "      </button>\n",
       "      \n",
       "  <style>\n",
       "    .colab-df-container {\n",
       "      display:flex;\n",
       "      flex-wrap:wrap;\n",
       "      gap: 12px;\n",
       "    }\n",
       "\n",
       "    .colab-df-convert {\n",
       "      background-color: #E8F0FE;\n",
       "      border: none;\n",
       "      border-radius: 50%;\n",
       "      cursor: pointer;\n",
       "      display: none;\n",
       "      fill: #1967D2;\n",
       "      height: 32px;\n",
       "      padding: 0 0 0 0;\n",
       "      width: 32px;\n",
       "    }\n",
       "\n",
       "    .colab-df-convert:hover {\n",
       "      background-color: #E2EBFA;\n",
       "      box-shadow: 0px 1px 2px rgba(60, 64, 67, 0.3), 0px 1px 3px 1px rgba(60, 64, 67, 0.15);\n",
       "      fill: #174EA6;\n",
       "    }\n",
       "\n",
       "    [theme=dark] .colab-df-convert {\n",
       "      background-color: #3B4455;\n",
       "      fill: #D2E3FC;\n",
       "    }\n",
       "\n",
       "    [theme=dark] .colab-df-convert:hover {\n",
       "      background-color: #434B5C;\n",
       "      box-shadow: 0px 1px 3px 1px rgba(0, 0, 0, 0.15);\n",
       "      filter: drop-shadow(0px 1px 2px rgba(0, 0, 0, 0.3));\n",
       "      fill: #FFFFFF;\n",
       "    }\n",
       "  </style>\n",
       "\n",
       "      <script>\n",
       "        const buttonEl =\n",
       "          document.querySelector('#df-108c797b-0f7b-40fb-970c-418f93334476 button.colab-df-convert');\n",
       "        buttonEl.style.display =\n",
       "          google.colab.kernel.accessAllowed ? 'block' : 'none';\n",
       "\n",
       "        async function convertToInteractive(key) {\n",
       "          const element = document.querySelector('#df-108c797b-0f7b-40fb-970c-418f93334476');\n",
       "          const dataTable =\n",
       "            await google.colab.kernel.invokeFunction('convertToInteractive',\n",
       "                                                     [key], {});\n",
       "          if (!dataTable) return;\n",
       "\n",
       "          const docLinkHtml = 'Like what you see? Visit the ' +\n",
       "            '<a target=\"_blank\" href=https://colab.research.google.com/notebooks/data_table.ipynb>data table notebook</a>'\n",
       "            + ' to learn more about interactive tables.';\n",
       "          element.innerHTML = '';\n",
       "          dataTable['output_type'] = 'display_data';\n",
       "          await google.colab.output.renderOutput(dataTable, element);\n",
       "          const docLink = document.createElement('div');\n",
       "          docLink.innerHTML = docLinkHtml;\n",
       "          element.appendChild(docLink);\n",
       "        }\n",
       "      </script>\n",
       "    </div>\n",
       "  </div>\n",
       "  "
      ],
      "text/plain": [
       "            author                                     collectionName  date  \\\n",
       "0      Emily Oster  Cribsheet: A Data-Driven Guide to Better, More...  2019   \n",
       "1     Cathy O'Neil  Weapons of Math Destruction: How Big Data Incr...  2016   \n",
       "2         Gene Kim  The Unicorn Project: A Novel About Developers,...  2019   \n",
       "3  Charles Wheelan  Naked Statistics: Stripping the Dread from the...  2013   \n",
       "4      Emily Oster  The Family Firm: A Data-Driven Guide to Better...  2021   \n",
       "\n",
       "                         genre  price narrator length  \n",
       "0                   Nonfiction  14.99       KV  10:36  \n",
       "1                   Nonfiction  14.99       CO  06:23  \n",
       "2  Business & Personal Finance  21.99       FC  12:25  \n",
       "3                   Nonfiction  21.99       JD  10:49  \n",
       "4                   Nonfiction  14.99       EO  07:56  "
      ]
     },
     "execution_count": 8,
     "metadata": {},
     "output_type": "execute_result"
    }
   ],
   "source": [
    "# Your Code Here\n",
    "date = pd.to_datetime(named_df['date'])\n",
    "date_int = [int(x.year) for x in date]\n",
    "\n",
    "price = named_df['price']\n",
    "price_float = [float(x) for x in price]\n",
    "\n",
    "named_df = named_df.drop('url', axis=1)\n",
    "named_df['date'] = date_int\n",
    "named_df['price'] = price_float\n",
    "named_df.head()"
   ]
  },
  {
   "cell_type": "markdown",
   "id": "b0153aae",
   "metadata": {
    "id": "b0153aae"
   },
   "source": [
    "### Step .6\n",
    "- Find the number of audiobooks pubished before year 2015\n"
   ]
  },
  {
   "cell_type": "code",
   "execution_count": null,
   "id": "75a7a37a",
   "metadata": {
    "colab": {
     "base_uri": "https://localhost:8080/"
    },
    "executionInfo": {
     "elapsed": 459,
     "status": "ok",
     "timestamp": 1681229803300,
     "user": {
      "displayName": "Anita Ye",
      "userId": "11121645025208224073"
     },
     "user_tz": 240
    },
    "id": "75a7a37a",
    "outputId": "8eba445c-f595-466d-d846-268dedda968b"
   },
   "outputs": [
    {
     "data": {
      "text/plain": [
       "4"
      ]
     },
     "execution_count": 9,
     "metadata": {},
     "output_type": "execute_result"
    }
   ],
   "source": [
    "# Your Code Here\n",
    "count = len([x for x in named_df['date'] if x < 2015])\n",
    "count"
   ]
  },
  {
   "cell_type": "markdown",
   "id": "bbef0a55",
   "metadata": {
    "id": "bbef0a55"
   },
   "source": [
    "### Step .7\n",
    "- Find the name of the author who has the largest number of audiobooks\n",
    "- Find the all audiobooks of that author and show their genre"
   ]
  },
  {
   "cell_type": "code",
   "execution_count": null,
   "id": "a58a3225",
   "metadata": {
    "colab": {
     "base_uri": "https://localhost:8080/",
     "height": 35
    },
    "executionInfo": {
     "elapsed": 318,
     "status": "ok",
     "timestamp": 1681229805369,
     "user": {
      "displayName": "Anita Ye",
      "userId": "11121645025208224073"
     },
     "user_tz": 240
    },
    "id": "a58a3225",
    "outputId": "ee1f9b6f-ada1-454c-8ed5-a42e1a288849"
   },
   "outputs": [
    {
     "data": {
      "application/vnd.google.colaboratory.intrinsic+json": {
       "type": "string"
      },
      "text/plain": [
       "'Emily Oster'"
      ]
     },
     "execution_count": 10,
     "metadata": {},
     "output_type": "execute_result"
    }
   ],
   "source": [
    "# Your Code Here\n",
    "author_counts = named_df['author'].value_counts()\n",
    "max_author = author_counts.idxmax()\n",
    "max_author"
   ]
  },
  {
   "cell_type": "code",
   "execution_count": null,
   "id": "60d85a87-e6e1-4095-a101-7e5a2ee9759a",
   "metadata": {
    "colab": {
     "base_uri": "https://localhost:8080/",
     "height": 112
    },
    "executionInfo": {
     "elapsed": 12,
     "status": "ok",
     "timestamp": 1681229807768,
     "user": {
      "displayName": "Anita Ye",
      "userId": "11121645025208224073"
     },
     "user_tz": 240
    },
    "id": "60d85a87-e6e1-4095-a101-7e5a2ee9759a",
    "outputId": "d2bddc8d-196c-4316-832f-7fe04754a5bd"
   },
   "outputs": [
    {
     "data": {
      "text/html": [
       "\n",
       "  <div id=\"df-a7d2070d-de54-4fcf-885b-0c7c93d2715c\">\n",
       "    <div class=\"colab-df-container\">\n",
       "      <div>\n",
       "<style scoped>\n",
       "    .dataframe tbody tr th:only-of-type {\n",
       "        vertical-align: middle;\n",
       "    }\n",
       "\n",
       "    .dataframe tbody tr th {\n",
       "        vertical-align: top;\n",
       "    }\n",
       "\n",
       "    .dataframe thead th {\n",
       "        text-align: right;\n",
       "    }\n",
       "</style>\n",
       "<table border=\"1\" class=\"dataframe\">\n",
       "  <thead>\n",
       "    <tr style=\"text-align: right;\">\n",
       "      <th></th>\n",
       "      <th>collectionName</th>\n",
       "      <th>genre</th>\n",
       "    </tr>\n",
       "  </thead>\n",
       "  <tbody>\n",
       "    <tr>\n",
       "      <th>0</th>\n",
       "      <td>Cribsheet: A Data-Driven Guide to Better, More...</td>\n",
       "      <td>Nonfiction</td>\n",
       "    </tr>\n",
       "    <tr>\n",
       "      <th>4</th>\n",
       "      <td>The Family Firm: A Data-Driven Guide to Better...</td>\n",
       "      <td>Nonfiction</td>\n",
       "    </tr>\n",
       "  </tbody>\n",
       "</table>\n",
       "</div>\n",
       "      <button class=\"colab-df-convert\" onclick=\"convertToInteractive('df-a7d2070d-de54-4fcf-885b-0c7c93d2715c')\"\n",
       "              title=\"Convert this dataframe to an interactive table.\"\n",
       "              style=\"display:none;\">\n",
       "        \n",
       "  <svg xmlns=\"http://www.w3.org/2000/svg\" height=\"24px\"viewBox=\"0 0 24 24\"\n",
       "       width=\"24px\">\n",
       "    <path d=\"M0 0h24v24H0V0z\" fill=\"none\"/>\n",
       "    <path d=\"M18.56 5.44l.94 2.06.94-2.06 2.06-.94-2.06-.94-.94-2.06-.94 2.06-2.06.94zm-11 1L8.5 8.5l.94-2.06 2.06-.94-2.06-.94L8.5 2.5l-.94 2.06-2.06.94zm10 10l.94 2.06.94-2.06 2.06-.94-2.06-.94-.94-2.06-.94 2.06-2.06.94z\"/><path d=\"M17.41 7.96l-1.37-1.37c-.4-.4-.92-.59-1.43-.59-.52 0-1.04.2-1.43.59L10.3 9.45l-7.72 7.72c-.78.78-.78 2.05 0 2.83L4 21.41c.39.39.9.59 1.41.59.51 0 1.02-.2 1.41-.59l7.78-7.78 2.81-2.81c.8-.78.8-2.07 0-2.86zM5.41 20L4 18.59l7.72-7.72 1.47 1.35L5.41 20z\"/>\n",
       "  </svg>\n",
       "      </button>\n",
       "      \n",
       "  <style>\n",
       "    .colab-df-container {\n",
       "      display:flex;\n",
       "      flex-wrap:wrap;\n",
       "      gap: 12px;\n",
       "    }\n",
       "\n",
       "    .colab-df-convert {\n",
       "      background-color: #E8F0FE;\n",
       "      border: none;\n",
       "      border-radius: 50%;\n",
       "      cursor: pointer;\n",
       "      display: none;\n",
       "      fill: #1967D2;\n",
       "      height: 32px;\n",
       "      padding: 0 0 0 0;\n",
       "      width: 32px;\n",
       "    }\n",
       "\n",
       "    .colab-df-convert:hover {\n",
       "      background-color: #E2EBFA;\n",
       "      box-shadow: 0px 1px 2px rgba(60, 64, 67, 0.3), 0px 1px 3px 1px rgba(60, 64, 67, 0.15);\n",
       "      fill: #174EA6;\n",
       "    }\n",
       "\n",
       "    [theme=dark] .colab-df-convert {\n",
       "      background-color: #3B4455;\n",
       "      fill: #D2E3FC;\n",
       "    }\n",
       "\n",
       "    [theme=dark] .colab-df-convert:hover {\n",
       "      background-color: #434B5C;\n",
       "      box-shadow: 0px 1px 3px 1px rgba(0, 0, 0, 0.15);\n",
       "      filter: drop-shadow(0px 1px 2px rgba(0, 0, 0, 0.3));\n",
       "      fill: #FFFFFF;\n",
       "    }\n",
       "  </style>\n",
       "\n",
       "      <script>\n",
       "        const buttonEl =\n",
       "          document.querySelector('#df-a7d2070d-de54-4fcf-885b-0c7c93d2715c button.colab-df-convert');\n",
       "        buttonEl.style.display =\n",
       "          google.colab.kernel.accessAllowed ? 'block' : 'none';\n",
       "\n",
       "        async function convertToInteractive(key) {\n",
       "          const element = document.querySelector('#df-a7d2070d-de54-4fcf-885b-0c7c93d2715c');\n",
       "          const dataTable =\n",
       "            await google.colab.kernel.invokeFunction('convertToInteractive',\n",
       "                                                     [key], {});\n",
       "          if (!dataTable) return;\n",
       "\n",
       "          const docLinkHtml = 'Like what you see? Visit the ' +\n",
       "            '<a target=\"_blank\" href=https://colab.research.google.com/notebooks/data_table.ipynb>data table notebook</a>'\n",
       "            + ' to learn more about interactive tables.';\n",
       "          element.innerHTML = '';\n",
       "          dataTable['output_type'] = 'display_data';\n",
       "          await google.colab.output.renderOutput(dataTable, element);\n",
       "          const docLink = document.createElement('div');\n",
       "          docLink.innerHTML = docLinkHtml;\n",
       "          element.appendChild(docLink);\n",
       "        }\n",
       "      </script>\n",
       "    </div>\n",
       "  </div>\n",
       "  "
      ],
      "text/plain": [
       "                                      collectionName       genre\n",
       "0  Cribsheet: A Data-Driven Guide to Better, More...  Nonfiction\n",
       "4  The Family Firm: A Data-Driven Guide to Better...  Nonfiction"
      ]
     },
     "execution_count": 11,
     "metadata": {},
     "output_type": "execute_result"
    }
   ],
   "source": [
    "max_author_df = named_df[named_df['author'] == max_author]\n",
    "max_author_df[['collectionName', 'genre']]"
   ]
  },
  {
   "cell_type": "markdown",
   "id": "0ce995bd",
   "metadata": {
    "id": "0ce995bd"
   },
   "source": [
    "### Step .8\n",
    "- Find the title of the most expensive collection\n",
    "- Find the name of the narrator who has the longest audiobook\n",
    "- Find the number of diffenet genres"
   ]
  },
  {
   "cell_type": "code",
   "execution_count": null,
   "id": "0e848c28",
   "metadata": {
    "colab": {
     "base_uri": "https://localhost:8080/",
     "height": 35
    },
    "executionInfo": {
     "elapsed": 988,
     "status": "ok",
     "timestamp": 1681229811637,
     "user": {
      "displayName": "Anita Ye",
      "userId": "11121645025208224073"
     },
     "user_tz": 240
    },
    "id": "0e848c28",
    "outputId": "ac9c5f42-a197-4933-c9ce-1e256e00a623"
   },
   "outputs": [
    {
     "data": {
      "application/vnd.google.colaboratory.intrinsic+json": {
       "type": "string"
      },
      "text/plain": [
       "'Designing Data-Intensive Applications: The Big Ideas Behind Reliable, Scalable, and Maintainable Systems (Unabridged)'"
      ]
     },
     "execution_count": 12,
     "metadata": {},
     "output_type": "execute_result"
    }
   ],
   "source": [
    "# Your Code Here\n",
    "max_price_idx = named_df['price'].idxmax()\n",
    "most_expensive_title = named_df.loc[max_price_idx, 'collectionName']\n",
    "most_expensive_title"
   ]
  },
  {
   "cell_type": "code",
   "execution_count": null,
   "id": "36e8449d-70c8-4fe6-a277-ed793219ccc6",
   "metadata": {
    "colab": {
     "base_uri": "https://localhost:8080/",
     "height": 35
    },
    "executionInfo": {
     "elapsed": 13,
     "status": "ok",
     "timestamp": 1681229812710,
     "user": {
      "displayName": "Anita Ye",
      "userId": "11121645025208224073"
     },
     "user_tz": 240
    },
    "id": "36e8449d-70c8-4fe6-a277-ed793219ccc6",
    "outputId": "183da5fc-8936-4f17-d5cb-a9359d4adba6"
   },
   "outputs": [
    {
     "data": {
      "application/vnd.google.colaboratory.intrinsic+json": {
       "type": "string"
      },
      "text/plain": [
       "'IB'"
      ]
     },
     "execution_count": 13,
     "metadata": {},
     "output_type": "execute_result"
    }
   ],
   "source": [
    "length_list = [int(x.replace(':', '')) for x in named_df['length']]\n",
    "max_length_idx = length_list.index(max(length_list))\n",
    "longest_audiobook_narrator = named_df.loc[max_length_idx, 'narrator']\n",
    "longest_audiobook_narrator"
   ]
  },
  {
   "cell_type": "code",
   "execution_count": null,
   "id": "8fe7a2e2-027c-45de-92d4-2f6db77ce6fb",
   "metadata": {
    "colab": {
     "base_uri": "https://localhost:8080/"
    },
    "executionInfo": {
     "elapsed": 2,
     "status": "ok",
     "timestamp": 1681229815986,
     "user": {
      "displayName": "Anita Ye",
      "userId": "11121645025208224073"
     },
     "user_tz": 240
    },
    "id": "8fe7a2e2-027c-45de-92d4-2f6db77ce6fb",
    "outputId": "7940e8ed-ea8c-4368-dd0a-f16c5b3fa76c"
   },
   "outputs": [
    {
     "data": {
      "text/plain": [
       "6"
      ]
     },
     "execution_count": 14,
     "metadata": {},
     "output_type": "execute_result"
    }
   ],
   "source": [
    "len(named_df['genre'].unique())"
   ]
  },
  {
   "cell_type": "markdown",
   "id": "ad90ee7e",
   "metadata": {
    "id": "ad90ee7e"
   },
   "source": [
    "### Step .9\n",
    "- Compare the mean price of different genre\n",
    "- Compare the mean price of different years"
   ]
  },
  {
   "cell_type": "code",
   "execution_count": null,
   "id": "c25a5c78",
   "metadata": {
    "colab": {
     "base_uri": "https://localhost:8080/"
    },
    "executionInfo": {
     "elapsed": 198,
     "status": "ok",
     "timestamp": 1681229818556,
     "user": {
      "displayName": "Anita Ye",
      "userId": "11121645025208224073"
     },
     "user_tz": 240
    },
    "id": "c25a5c78",
    "outputId": "c6e96d1b-4390-4e6c-85c8-dbed0726e0d5"
   },
   "outputs": [
    {
     "data": {
      "text/plain": [
       "genre\n",
       "Biographies & Memoirs          12.990000\n",
       "Business & Personal Finance    14.132857\n",
       "Mysteries & Thrillers          11.990000\n",
       "Nonfiction                     16.190000\n",
       "Science & Nature               15.190000\n",
       "Self-Development               23.990000\n",
       "Name: price, dtype: float64"
      ]
     },
     "execution_count": 15,
     "metadata": {},
     "output_type": "execute_result"
    }
   ],
   "source": [
    "# Your Code Here\n",
    "genre_mean_price = named_df.groupby('genre')['price'].mean()\n",
    "genre_mean_price"
   ]
  },
  {
   "cell_type": "code",
   "execution_count": null,
   "id": "06f6bb4e-83ab-4a2b-8781-5eebcdd9e53c",
   "metadata": {
    "colab": {
     "base_uri": "https://localhost:8080/"
    },
    "executionInfo": {
     "elapsed": 318,
     "status": "ok",
     "timestamp": 1681229821447,
     "user": {
      "displayName": "Anita Ye",
      "userId": "11121645025208224073"
     },
     "user_tz": 240
    },
    "id": "06f6bb4e-83ab-4a2b-8781-5eebcdd9e53c",
    "outputId": "bf848c1b-580f-4245-f85e-c705b525e18e"
   },
   "outputs": [
    {
     "data": {
      "text/plain": [
       "date\n",
       "2013    21.990000\n",
       "2014     5.323333\n",
       "2015    10.490000\n",
       "2016    13.434444\n",
       "2017    13.490000\n",
       "2018    16.740000\n",
       "2019    15.590000\n",
       "2020    18.390000\n",
       "2021    17.865000\n",
       "2022    15.156667\n",
       "2023    18.323333\n",
       "Name: price, dtype: float64"
      ]
     },
     "execution_count": 16,
     "metadata": {},
     "output_type": "execute_result"
    }
   ],
   "source": [
    "year_mean_price = named_df.groupby('date')['price'].mean()\n",
    "year_mean_price"
   ]
  },
  {
   "cell_type": "markdown",
   "id": "4b6c2cc8",
   "metadata": {
    "id": "4b6c2cc8"
   },
   "source": [
    "### Step .10\n",
    "- Find the year that has the highest number of Nonfiction audiobooks"
   ]
  },
  {
   "cell_type": "code",
   "execution_count": null,
   "id": "ddb400bc-0f44-49c1-914a-1d567719322f",
   "metadata": {
    "colab": {
     "base_uri": "https://localhost:8080/"
    },
    "executionInfo": {
     "elapsed": 686,
     "status": "ok",
     "timestamp": 1681229824273,
     "user": {
      "displayName": "Anita Ye",
      "userId": "11121645025208224073"
     },
     "user_tz": 240
    },
    "id": "ddb400bc-0f44-49c1-914a-1d567719322f",
    "outputId": "1adfaa71-de56-48cb-95d0-d6d4659e6ddf"
   },
   "outputs": [
    {
     "data": {
      "text/plain": [
       "2016"
      ]
     },
     "execution_count": 17,
     "metadata": {},
     "output_type": "execute_result"
    }
   ],
   "source": [
    "nonfiction_df = named_df[named_df['genre'] == 'Nonfiction']\n",
    "nonfiction_year_counts = nonfiction_df.groupby('date').size()\n",
    "max_nonfiction_year = nonfiction_year_counts.idxmax()\n",
    "max_nonfiction_year"
   ]
  }
 ],
 "metadata": {
  "colab": {
   "provenance": []
  },
  "kernelspec": {
   "display_name": "Python 3 (ipykernel)",
   "language": "python",
   "name": "python3"
  },
  "language_info": {
   "codemirror_mode": {
    "name": "ipython",
    "version": 3
   },
   "file_extension": ".py",
   "mimetype": "text/x-python",
   "name": "python",
   "nbconvert_exporter": "python",
   "pygments_lexer": "ipython3",
   "version": "3.9.12"
  }
 },
 "nbformat": 4,
 "nbformat_minor": 5
}
